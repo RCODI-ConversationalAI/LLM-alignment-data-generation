{
 "cells": [
  {
   "cell_type": "code",
   "execution_count": 1,
   "metadata": {},
   "outputs": [],
   "source": [
    "import pandas as pd\n",
    "import xml.etree.ElementTree as ET\n",
    "from pathlib import Path"
   ]
  },
  {
   "cell_type": "code",
   "execution_count": 2,
   "metadata": {},
   "outputs": [],
   "source": [
    "def load_subtlex_us(file_path):\n",
    "    \"\"\"\n",
    "    Load SUBTLEX-US data\n",
    "    \"\"\"\n",
    "    try:\n",
    "        df = pd.read_excel(file_path)\n",
    "        print(\"\\n=== SUBTLEX-US Data Loaded ===\")\n",
    "        print(\"Number of total words:\", len(df))\n",
    "        print(\"Columns:\", df.columns.tolist())\n",
    "        return df\n",
    "    except Exception as e:\n",
    "        print(f\"Error reading SUBTLEX-US file: {e}\")\n",
    "        return None"
   ]
  },
  {
   "cell_type": "code",
   "execution_count": 3,
   "metadata": {},
   "outputs": [],
   "source": [
    "def extract_emotion_words(xml_file):\n",
    "    \"\"\"\n",
    "    Extract emotion words from XML file's categ attributes\n",
    "    \"\"\"\n",
    "    try:\n",
    "        tree = ET.parse(xml_file)\n",
    "        root = tree.getroot()\n",
    "        \n",
    "        # Extract all unique categ attributes\n",
    "        emotion_words = set()\n",
    "        for syn_list in root.findall('.//noun-syn'):\n",
    "            categ = syn_list.get('categ')\n",
    "            if categ:\n",
    "                emotion_words.add(categ.lower())  # Convert to lowercase for matching\n",
    "                \n",
    "        print(f\"\\n=== Extracted {len(emotion_words)} unique emotion words ===\")\n",
    "        return sorted(list(emotion_words))\n",
    "    except Exception as e:\n",
    "        print(f\"Error parsing XML file: {e}\")\n",
    "        return None"
   ]
  },
  {
   "cell_type": "code",
   "execution_count": 4,
   "metadata": {},
   "outputs": [],
   "source": [
    "def create_emotion_lexicon(subtlex_df, emotion_words, output_path):\n",
    "    \"\"\"\n",
    "    Create new lexicon containing only emotion words with their SUBTLEX-US information\n",
    "    \"\"\"\n",
    "    # Convert emotion words to lowercase for case-insensitive matching\n",
    "    emotion_words_set = set(emotion_words)\n",
    "    \n",
    "    # Filter SUBTLEX-US dataframe\n",
    "    emotion_df = subtlex_df[subtlex_df['Word'].str.lower().isin(emotion_words_set)].copy()\n",
    "    \n",
    "    # Sort by frequency\n",
    "    emotion_df = emotion_df.sort_values('FREQcount', ascending=False)\n",
    "    \n",
    "    print(\"\\n=== Emotion Lexicon Creation ===\")\n",
    "    print(f\"Found {len(emotion_df)} emotion words in SUBTLEX-US\")\n",
    "    print(\"\\nSample of matched words:\")\n",
    "    print(emotion_df[['Word', 'FREQcount', 'SUBTLWF']].head())\n",
    "    \n",
    "    # Save to CSV\n",
    "    emotion_df.to_csv(output_path, index=False)\n",
    "    print(f\"\\nSaved emotion lexicon to: {output_path}\")\n",
    "    \n",
    "    # Report missing words\n",
    "    found_words = set(emotion_df['Word'].str.lower())\n",
    "    missing_words = emotion_words_set - found_words\n",
    "    print(f\"\\nMissing words ({len(missing_words)}):\")\n",
    "    print(sorted(list(missing_words))[:10], \"...\")\n",
    "    \n",
    "    return emotion_df"
   ]
  },
  {
   "cell_type": "code",
   "execution_count": 5,
   "metadata": {},
   "outputs": [],
   "source": [
    "HOME_DIR = Path(\"/Volumes/ssd/01-ckj-postdoc/LLM-alignment-data-generation/\")\n",
    "subtlex_path = HOME_DIR / 'lexicon' / 'subtlex-us' / 'SUBTLEX-US frequency list with PoS and Zipf information.xlsx'\n",
    "wordnet_path = HOME_DIR / 'lexicon' / 'wn-domains-3.2' / 'wn-affect-1.1' / 'a-synsets.xml'"
   ]
  },
  {
   "cell_type": "code",
   "execution_count": null,
   "metadata": {},
   "outputs": [],
   "source": []
  }
 ],
 "metadata": {
  "kernelspec": {
   "display_name": "ckj-speech",
   "language": "python",
   "name": "python3"
  },
  "language_info": {
   "codemirror_mode": {
    "name": "ipython",
    "version": 3
   },
   "file_extension": ".py",
   "mimetype": "text/x-python",
   "name": "python",
   "nbconvert_exporter": "python",
   "pygments_lexer": "ipython3",
   "version": "3.8.18"
  }
 },
 "nbformat": 4,
 "nbformat_minor": 2
}
