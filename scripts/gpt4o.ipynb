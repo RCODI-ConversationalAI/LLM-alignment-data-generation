{
 "cells": [
  {
   "cell_type": "code",
   "execution_count": 1,
   "metadata": {},
   "outputs": [],
   "source": [
    "import openai\n",
    "import csv"
   ]
  },
  {
   "cell_type": "code",
   "execution_count": null,
   "metadata": {},
   "outputs": [],
   "source": [
    "def load_api_key(file_path):\n",
    "    with open(file_path, 'r') as file:\n",
    "        api_key = file.read().strip()\n",
    "    return api_key\n",
    "\n",
    "api_key = load_api_key('api_key.txt')"
   ]
  },
  {
   "cell_type": "code",
   "execution_count": null,
   "metadata": {},
   "outputs": [],
   "source": [
    "# Define functions for input & output\n",
    "\n",
    "# For getting the chat GPT output\n",
    "def get_completion(prompt, model=\"gpt-4\", temperature=0.7, max_tokens=5000, top_p=1.0, frequency_penalty=0, presence_penalty=0):\n",
    "  try:\n",
    "    response = client.chat.completions.create(\n",
    "        messages=[\n",
    "            {\n",
    "                \"role\": \"user\",\n",
    "                \"content\": prompt\n",
    "            }\n",
    "        ],\n",
    "        model = model,\n",
    "        temperature=temperature,\n",
    "        max_tokens=max_tokens,\n",
    "        top_p = top_p,\n",
    "        frequency_penalty = frequency_penalty,\n",
    "        presence_penalty = presence_penalty\n",
    "    )\n",
    "    if response.choices:\n",
    "      return response\n",
    "    else:\n",
    "      return \"No response from the model.\"\n",
    "  except Exception as e:\n",
    "    return f\"Error: {str(e)}\"\n",
    "\n",
    "def get_answer(response):\n",
    "    return response.choices[0].message.content\n",
    "\n",
    "# For loading the input text and formatting it\n",
    "def load_file(file_path):\n",
    "    with open(file_path, mode='r') as file:\n",
    "        csv_reader = csv.reader(file)\n",
    "        next(csv_reader) # skip header\n",
    "        rows_lst = list(csv_reader)\n",
    "    return rows_lst\n",
    "\n",
    "def lst2str(lst):\n",
    "    res_str = \"\"\n",
    "    for i in lst:\n",
    "        res_str += ','.join(i) + '\\n'\n",
    "    return res_str"
   ]
  },
  {
   "cell_type": "code",
   "execution_count": null,
   "metadata": {},
   "outputs": [],
   "source": []
  }
 ],
 "metadata": {
  "kernelspec": {
   "display_name": "ckj-speech",
   "language": "python",
   "name": "python3"
  },
  "language_info": {
   "codemirror_mode": {
    "name": "ipython",
    "version": 3
   },
   "file_extension": ".py",
   "mimetype": "text/x-python",
   "name": "python",
   "nbconvert_exporter": "python",
   "pygments_lexer": "ipython3",
   "version": "3.8.18"
  }
 },
 "nbformat": 4,
 "nbformat_minor": 2
}
